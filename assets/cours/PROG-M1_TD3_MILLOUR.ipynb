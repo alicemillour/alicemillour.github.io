{
 "cells": [
  {
   "cell_type": "markdown",
   "metadata": {},
   "source": [
    "# TD 3 : extraire des informations d'un corpus brut grâce à python et aux expressions régulières\n",
    "\n",
    "\n",
    "## 1/ Quel est le package python qui permet de gérer les expression régulières ? importez-le et affichez l'aide correspondante avec la fonction help()"
   ]
  },
  {
   "cell_type": "code",
   "execution_count": null,
   "metadata": {},
   "outputs": [],
   "source": [
    "# importez le package\n",
    "import re\n",
    "# affichez l'aide (ou ouvrez https://docs.python.org/fr/3/library/re.html) \n",
    "# help(re)"
   ]
  },
  {
   "cell_type": "markdown",
   "metadata": {},
   "source": [
    "## 2/ La première fonction que nous explorons est la fonction `search`, quels sont les paramètres de cette fonction ? Quel est le type d'objet renvoyé ?"
   ]
  },
  {
   "cell_type": "code",
   "execution_count": null,
   "metadata": {},
   "outputs": [],
   "source": [
    "# paramètre 1 : \n",
    "# paramètre 2 : \n",
    "# paramètre 3 : (valeur par défaut : )\n",
    "# valeur de retour : "
   ]
  },
  {
   "cell_type": "markdown",
   "metadata": {},
   "source": [
    "--------------------------------------------------------------------------------------------\n",
    "\n",
    "## 3/ utiliser la fonction `search` pour identifier les présidents qui au cours de leurs discours d'investiture ont mentionné  :\n",
    "\n",
    "1. La Nation\n",
    "2. Les enjeux climatiques (mot clé : \"climat\")\n",
    "\n",
    "Utilisez les boucles (parcours de liste) et les fonctions pour rendre votre code lisible.\n",
    "\n",
    "--------------------------------------------------------------------------------------------\n"
   ]
  },
  {
   "cell_type": "code",
   "execution_count": 1,
   "metadata": {},
   "outputs": [
    {
     "name": "stdout",
     "output_type": "stream",
     "text": [
      "Question 3.1 \n",
      "\n"
     ]
    }
   ],
   "source": [
    "print(\"Question 3.1 \\n\")\n",
    "mots = [\"Nation\",\"climat\"]\n",
    "fichiers = [\"investiture_Chirac1.txt\",\"investiture_Hollande.txt\",\"investiture_Mitterrand1.txt\",\"investiture_Sarkozy.txt\",\"investiture_Chirac2.txt\",\"investiture_Macron.txt\",\"investiture_Mitterrand2.txt\",\"investiture_VGE.txt\"]\n"
   ]
  },
  {
   "cell_type": "markdown",
   "metadata": {},
   "source": [
    "--------------------------------------------------------------------------------------------\n",
    "\n",
    "## 4/ La deuxième fonction que nous utilisons est la fonction `re.compile`, à quoi sert-elle ? Quels sont les paramètres de cette fonction ? Quel est le type d'objet renvoyé ?\n",
    "--------------------------------------------------------------------------------------------\n",
    "\n"
   ]
  },
  {
   "cell_type": "code",
   "execution_count": null,
   "metadata": {},
   "outputs": [],
   "source": [
    "# paramètre 1 : \n",
    "# valeur de retour : "
   ]
  },
  {
   "cell_type": "markdown",
   "metadata": {},
   "source": [
    "--------------------------------------------------------------------------------------------\n",
    "\n",
    "## 5/ Ouvrez le fichier moi_president_de_la_republique.txt et stockez son contenu dans une variable `discours`.\n",
    "\n",
    "1. stockez dans une variable `moi_je` le nombre de fois que M. Hollande utilise un pronom personnel de la première personne du singulier dans cet extrait de discours (\"je\", \"j'\" et \"moi\" inclus) (42). Vous allez avoir besoin de l'expression régulière plus bas, utilisez la fonction compile pour la stocker. \n",
    "2. stockez dans une variable `anaphore` les phrases commençant par le syntagme « Moi président de la République » et dans une variable `anaphore_count` le nombre d'occurrences (15). Attention la variable `anaphore` doit contenir la phrase entière.\n",
    "--------------------------------------------------------------------------------------------"
   ]
  },
  {
   "cell_type": "code",
   "execution_count": 2,
   "metadata": {},
   "outputs": [],
   "source": [
    "# ouverture du fichier ...\n",
    "\n"
   ]
  },
  {
   "cell_type": "markdown",
   "metadata": {},
   "source": [
    "--------------------------------------------------------------------------------------------\n",
    "\n",
    "## 6/ Ouvrez le fichier reponse_sarkozy.txt et stockez son contenu dans une variable `reponse`.\n",
    "\n",
    "1. Combien de fois Nicolas Sarkozy utilise-t-il un pronom personnel de la première personne du singulier tel que défini ci-dessus ? répondez sans réécrire l'expression régulière correspondante.  \n",
    "2. Identifiez les figures de style employées par Nicolas Sarkozy (voir https://fr.wikipedia.org/wiki/Moi_pr%C3%A9sident_de_la_R%C3%A9publique), et utilisez à la manière de la question 5 des expressions régulières pour les isoler et les afficher. \n",
    "3. Quelles sont les personnalités citées par Nicolas Sarkozy ?\n",
    "\n",
    "--------------------------------------------------------------------------------------------"
   ]
  },
  {
   "cell_type": "code",
   "execution_count": 3,
   "metadata": {},
   "outputs": [
    {
     "name": "stdout",
     "output_type": "stream",
     "text": [
      "Question 6.1 \n",
      "\n",
      "\n",
      "Question 6.2 \n",
      "\n"
     ]
    }
   ],
   "source": [
    "# ouverture du fichier \n",
    "\n",
    "\n",
    "## Question 6.1 Combien de fois Nicolas Sarkozy utilise-t-il un pronom personnel \n",
    "# de la première personne du singulier tel que défini ci-dessus ?\n",
    "# répondez sans réécrire l'expression régulière correspondante.\n",
    "print(\"Question 6.1 \\n\")\n",
    "\n",
    "\n",
    "## Question 6.2 Identifiez les figures de style employées par Nicolas Sarkozy \n",
    "#(voir https://fr.wikipedia.org/wiki/Moi_pr%C3%A9sident_de_la_R%C3%A9publique),\n",
    "# et utilisez à la manière de la question 5 des expressions régulières pour les isoler et les afficher.\n",
    "print(\"\\nQuestion 6.2 \\n\")\n",
    "\n",
    "# Question 6.2 a) répétition\n",
    "\n",
    "# Question 6.2 b)print(\"question 6.2 \\n\")\n",
    "\n",
    "# Question 6.2 c) répétition + épiphore\n",
    "\n",
    "\n"
   ]
  },
  {
   "cell_type": "code",
   "execution_count": 4,
   "metadata": {},
   "outputs": [
    {
     "name": "stdout",
     "output_type": "stream",
     "text": [
      "\n",
      "Question 6.3 \n",
      "\n"
     ]
    }
   ],
   "source": [
    "# Question 6.3 Quelles sont les personnalités citées par Nicolas Sarkozy ?\n",
    "print(\"\\nQuestion 6.3 \\n\")\n",
    "\n",
    "\n"
   ]
  },
  {
   "cell_type": "markdown",
   "metadata": {},
   "source": [
    "## 7/ Utilisez la fonction `re.sub` pour enlever les éléments de ponctuation dans les deux textes ci-dessus. Vérifiez que les résultats correspondent à vos attentes et enregistrez les dans `moi_president_de_la_republique_mots.txt` et `reponse_sarkozy_mots.txt`. Combien chacun des textes contient-il de mots ?"
   ]
  },
  {
   "cell_type": "code",
   "execution_count": 5,
   "metadata": {
    "scrolled": true
   },
   "outputs": [
    {
     "name": "stdout",
     "output_type": "stream",
     "text": [
      "\n",
      "Question 7 \n",
      "\n"
     ]
    }
   ],
   "source": [
    "# Question 7\n",
    "print(\"\\nQuestion 7 \\n\")\n",
    "\n",
    "\n"
   ]
  },
  {
   "cell_type": "markdown",
   "metadata": {},
   "source": [
    "## 8/ Utilisez la fonction re.sub remplacer les 7 premières occurrences de \"Moi\" dans le texte `moi_president_de_la_republique.txt` par Vous et stockez le résultat dans une variable `vous_president`."
   ]
  },
  {
   "cell_type": "code",
   "execution_count": 6,
   "metadata": {},
   "outputs": [
    {
     "name": "stdout",
     "output_type": "stream",
     "text": [
      "\n",
      "Question 8 \n",
      "\n"
     ]
    }
   ],
   "source": [
    "# Question 8\n",
    "print(\"\\nQuestion 8 \\n\")\n",
    "\n"
   ]
  },
  {
   "cell_type": "markdown",
   "metadata": {},
   "source": [
    "## 9/ La troisième fonction que nous utilisons est la fonction `re.split`, à quoi sert-elle ? Quels sont les paramètres de cette fonction ? Quel est le type d'objet renvoyé ?"
   ]
  },
  {
   "cell_type": "code",
   "execution_count": null,
   "metadata": {},
   "outputs": [],
   "source": [
    "# paramètre 1 : \n",
    "# paramètre 2 : \n",
    "# paramètre 3 : (valeur par défaut : )\n",
    "# paramètre 4 : (valeur par défaut : )\n",
    "# valeur de retour : "
   ]
  },
  {
   "cell_type": "markdown",
   "metadata": {},
   "source": [
    "## 10/ Les expressions régulières pour traiter des fichiers csv\n",
    "\n",
    "1. Utilisez la fonction `re.split` pour isoler les différents champs contenus dans le fichier `Gargantext_CSV_Corpus_Sample.csv` (rappel : la fonction permettant de lire un document *ligne par ligne* n'est pas `read()`).\n",
    "\n",
    "2. Parcourez les listes créées par la fonction `split` pour former une liste des années de publication des ouvrages du corpus.\n",
    "résultat attendu : `['2011', '2011', '2012', '2012', '2012', '2012', '2012', '2013', '2013', '2013', '2013', '2013', '2013', '2013', '2013', '2013', '2013', '2013', '2013', '2013', '2014', '2014', '2014', '2014', '2014', '2014', '2014', '2014', '2014', '2014', '2015', '2015', '2015', '2015', '2015', '2015', '2015', '2015', '2015', '2015', '2015', '2016', '2016', '2016']`\n"
   ]
  },
  {
   "cell_type": "code",
   "execution_count": 7,
   "metadata": {},
   "outputs": [
    {
     "name": "stdout",
     "output_type": "stream",
     "text": [
      "\n",
      "Question 10.1 \n",
      "\n"
     ]
    }
   ],
   "source": [
    "# Question 10.1\n",
    "print(\"\\nQuestion 10.1 \\n\")\n",
    "# ouverture du fichier \n"
   ]
  }
 ],
 "metadata": {
  "kernelspec": {
   "display_name": "Python 3",
   "language": "python",
   "name": "python3"
  },
  "language_info": {
   "codemirror_mode": {
    "name": "ipython",
    "version": 3
   },
   "file_extension": ".py",
   "mimetype": "text/x-python",
   "name": "python",
   "nbconvert_exporter": "python",
   "pygments_lexer": "ipython3",
   "version": "3.6.10"
  }
 },
 "nbformat": 4,
 "nbformat_minor": 2
}
