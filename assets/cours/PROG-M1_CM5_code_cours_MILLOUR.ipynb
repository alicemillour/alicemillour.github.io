{
 "cells": [
  {
   "cell_type": "markdown",
   "metadata": {},
   "source": [
    "# CM5 (code cours)\n",
    "Contact : Alice Millour, alice.millour@sorbonne-universite.fr"
   ]
  },
  {
   "cell_type": "markdown",
   "metadata": {},
   "source": [
    "## Formatage de chaînes de caractères"
   ]
  },
  {
   "cell_type": "code",
   "execution_count": null,
   "metadata": {},
   "outputs": [],
   "source": [
    "# Formatage \n",
    "valeur_s = \"mot\"\n",
    "print(\"{}\".format(valeur_s))\n",
    "\n",
    "valeur_d = 3\n",
    "print(\"{}\".format(valeur_d))\n",
    "\n",
    "valeur_f = 3.5\n",
    "print(\"{}\".format(valeur_f))\n",
    "\n",
    "valeur_c = 47\n",
    "# conversion au format caractère\n",
    "print(\"{:c}\".format(valeur_c))\n",
    "print(\"{} est le code ASCII en base 10 du caractère {:c}\".format(valeur_c, valeur_c))\n",
    "\n",
    "\n"
   ]
  },
  {
   "cell_type": "code",
   "execution_count": null,
   "metadata": {},
   "outputs": [],
   "source": [
    "# Mélanger les formats \n",
    "\n",
    "name = input(\"nom : \")\n",
    "date = input(\"aujourd'hui, nous sommes le : \")\n",
    "duree_du_cours = input(\"la durée du cours est de (en heures) : \")\n",
    "\n",
    "print('Le {} octobre, {} aura passé {}h dans la salle 219.'.format(date,name, duree_du_cours))\n"
   ]
  },
  {
   "cell_type": "code",
   "execution_count": null,
   "metadata": {},
   "outputs": [],
   "source": [
    "# une chaîne de caractères peut contenir des éléments inconnus \n",
    "\n",
    "lundi = \"lundi\"\n",
    "mardi = \"mardi\"\n",
    "mercredi = \"mercredi\"\n",
    "jeudi = \"jeudi\"\n",
    "vendredi = \"vendredi\"\n",
    "samedi = \"samedi\"\n",
    "dimanche = \"dimanche\"\n",
    "\n",
    "# comment écrire : lundi précède mardi, mercredi, jeudi et vendredi ?\n",
    "\n",
    "print(lundi , \" précède \" , mardi , \",\" , mercredi , \", \" , jeudi , \" et \" , vendredi , \".\")\n",
    "print('{} précède {}, {}, {} et {}.'.format(lundi, mardi, mercredi, jeudi, vendredi))\n"
   ]
  },
  {
   "cell_type": "code",
   "execution_count": null,
   "metadata": {},
   "outputs": [],
   "source": [
    "jours = \"Lundi mardi mercredi jeudi vendredi samedi dimanche\"\n",
    "liste_jours = jours.split()\n",
    "print(liste_jours)\n",
    "\n",
    "print('{} précède {}, {}, {}, {}, {}, {} et {}.'.format(*liste_jours))\n"
   ]
  },
  {
   "cell_type": "markdown",
   "metadata": {},
   "source": [
    "## Compréhension de listes"
   ]
  },
  {
   "cell_type": "code",
   "execution_count": null,
   "metadata": {},
   "outputs": [],
   "source": [
    "a = [1,4,2,7,1,9,0,3,4,6,6,6,8,3]\n",
    "#######   CODE 1    ######\n",
    "b = []\n",
    "for x in a:\n",
    "    if x > 5:\n",
    "         b.append(x)\n",
    "print(b)\n",
    "\n",
    "#######   CODE 2    ######\n",
    "def fonction(b) :\n",
    "    b = [x for x in a if x = 4]\n",
    "    print(b)"
   ]
  },
  {
   "cell_type": "markdown",
   "metadata": {},
   "source": [
    "## Groupes et expressions régulières"
   ]
  },
  {
   "cell_type": "code",
   "execution_count": null,
   "metadata": {
    "scrolled": true
   },
   "outputs": [],
   "source": [
    "# Les groupes avec match/search (1/2)\n",
    "\n",
    "import re\n",
    "\n",
    "jours = \"Lundi mardi mercredi jeudi vendredi samedi dimanche\"\n",
    "\n",
    "jour_di = re.search(r'\\w+di\\b', jours)\n",
    "#print(jour_di)\n",
    "\n",
    "# les parenthèses permettent de définir des groupes\n",
    "jours = \"Lundi mardi mercredi jeudi vendredi samedi dimanche\"\n",
    "liste_jours = jours.split()\n",
    "prefixe_di = [re.search(r'(\\w+)di\\b', jour) for jour in liste_jours] \n",
    "\n",
    "#print(prefixe_di)\n",
    "\n",
    "#print(prefixe_di[0].group(1))\n",
    "#print(prefixe_di)\n",
    "\n",
    "liste=[]\n",
    "for prefixe_jour in prefixe_di:\n",
    "    if prefixe_jour != None :\n",
    "        liste.append(prefixe_jour.group(1))\n",
    "print(liste)    \n",
    "    \n",
    "#print(liste)\n",
    "\n",
    "#print([prefixe_jour.group(1) for prefixe_jour in prefixe_di if prefixe_jour != None ])\n"
   ]
  },
  {
   "cell_type": "code",
   "execution_count": null,
   "metadata": {},
   "outputs": [],
   "source": [
    "# La fonction group (2/2)\n",
    "\n",
    "import re \n",
    "\n",
    "phrase = \"Pendant ce temps, Marie cuisine des aubergines\"\n",
    "\n",
    "qui_quoi = re.search(r'(\\b\\w+\\b) cuisine des (\\b\\w+\\b)', phrase)\n",
    "print(qui_quoi)\n",
    "\n",
    "# group(0)\n",
    "print(\"le motif complet qui a été détecté est \\\"\" + qui_quoi.group(0) +\"\\\"\")\n",
    "# group(1)\n",
    "print(\"la personne qui cuisine est  \\\"\" + qui_quoi.group(1) +\"\\\"\")\n",
    "# group(2)\n",
    "print(\"la personne cuisine des \\\"\" + qui_quoi.group(2) + \"\\\"\")\n"
   ]
  },
  {
   "cell_type": "code",
   "execution_count": null,
   "metadata": {},
   "outputs": [],
   "source": [
    "# Les groupes avec findall \n",
    "phrase = \"Marie cuisine des aubergines, Jean cuisine des courgettes, Sébastien cuisine des carottes.\"\n",
    "\n",
    "qui_quoi = re.findall(r'(\\b\\w*\\b) cuisine des (\\b\\w+\\b)', phrase)\n",
    "\n",
    "print(\"### findall renvoie une liste de tuples correspondant aux groupes qui ont été capturés\\n\")\n",
    "print(qui_quoi)\n",
    "\n",
    "print(\"La liste des personnes qui cuisinent est : \" + str([partie[0] for partie in qui_quoi]) )\n",
    "print(\"La liste des légumes cuisinés est : \" + str([partie[1] for partie in qui_quoi]))\n",
    "\n",
    "print()\n",
    "print(\"### Bilan du découpage : \\n\")\n",
    "\n",
    "print(phrase)\n",
    "print(str([partie[0] for partie in qui_quoi]) + \" cuisinent des \" + str([partie[1] for partie in qui_quoi]))\n",
    "\n",
    "\n",
    "\n"
   ]
  },
  {
   "cell_type": "code",
   "execution_count": null,
   "metadata": {},
   "outputs": [],
   "source": [
    "phrase_et_parentheses = \"J'aime bien l'algo (mais pas trop).\"\n",
    "# on doit \"échapper\" les parenthèses\n",
    "parentheses = re.search(r'(\\([\\w\\s]*\\))', phrase_et_parentheses)\n",
    "print(parentheses.group(1))\n"
   ]
  }
 ],
 "metadata": {
  "kernelspec": {
   "display_name": "Python 3",
   "language": "python",
   "name": "python3"
  },
  "language_info": {
   "codemirror_mode": {
    "name": "ipython",
    "version": 3
   },
   "file_extension": ".py",
   "mimetype": "text/x-python",
   "name": "python",
   "nbconvert_exporter": "python",
   "pygments_lexer": "ipython3",
   "version": "3.6.10"
  }
 },
 "nbformat": 4,
 "nbformat_minor": 2
}
