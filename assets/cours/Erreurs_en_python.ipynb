{
 "cells": [
  {
   "cell_type": "markdown",
   "metadata": {},
   "source": [
    "# Types d'erreurs en Python\n",
    "\n",
    "\n",
    "### Dans ce notebook, nous explorons les erreurs les plus fréquentes en Python. Les codes fournis ci-dessous contiennent des erreurs à identifier et à corriger."
   ]
  },
  {
   "cell_type": "markdown",
   "metadata": {},
   "source": [
    "## 1 - SyntaxError\n",
    "\n",
    "corrigez  le programme ci-dessous pour qu'il affiche seulement les voyelles `a` et `e` les unes en dessous des autres"
   ]
  },
  {
   "cell_type": "code",
   "execution_count": 5,
   "metadata": {},
   "outputs": [
    {
     "name": "stdout",
     "output_type": "stream",
     "text": [
      "a\n",
      "e\n"
     ]
    }
   ],
   "source": [
    "# Erreur de syntaxe\n",
    "\n",
    "voyelles = [\"a\", \"e\", \"i\", \"o\", \"u\"]\n",
    "\n",
    "for lettre in voyelles\n",
    "    if (lettre = \"a\" or lettre = \"e\":\n",
    "    print(lettre)\n"
   ]
  },
  {
   "cell_type": "markdown",
   "metadata": {},
   "source": [
    "## 2 - AttributeError\n",
    "\n",
    "Quel est l'objet `str` mentionné par le message d'erreur ? comment afficher la longueur de la chaîne ?\n"
   ]
  },
  {
   "cell_type": "code",
   "execution_count": null,
   "metadata": {},
   "outputs": [],
   "source": [
    "# Erreur d'attribut \n",
    "\n",
    "text = \"Une phrase de cinq mots.\"\n",
    "\n",
    "# je souhaite afficher la longueur de la chaîne de caractères `text`\n",
    "print(text.len())\n"
   ]
  },
  {
   "cell_type": "markdown",
   "metadata": {},
   "source": [
    "## 3 -  IndexError\n",
    "\n",
    "Quel est l'indice qui est \"out of range\" dans l'exemple ci-dessous ?\n"
   ]
  },
  {
   "cell_type": "code",
   "execution_count": null,
   "metadata": {},
   "outputs": [],
   "source": [
    "# Erreur d'index #1\n",
    "\n",
    "text = \"Une phrase est composée de mots.\"\n",
    "\n",
    "# je souhaite afficher chaque mot de la chaîne de caractères  \n",
    "liste_mots = text.split()\n",
    "index = [0,1,2,3,4,5,6]\n",
    "\n",
    "for i in index:\n",
    "    print(liste_mots[i])\n",
    "\n"
   ]
  },
  {
   "cell_type": "markdown",
   "metadata": {},
   "source": [
    "## 3bis -  IndexError\n",
    "\n",
    "Quel est l'indice qui est \"out of range\" dans l'exemple ci-dessous ?\n"
   ]
  },
  {
   "cell_type": "code",
   "execution_count": null,
   "metadata": {},
   "outputs": [],
   "source": [
    "# Erreur d'index #2\n",
    "\n",
    "\"Quand je suis à {}, je pense à {}\".format(\"la fac\")\n",
    "\n"
   ]
  },
  {
   "cell_type": "markdown",
   "metadata": {},
   "source": [
    "## 4 - KeyError\n",
    "\n",
    "Un dictionnaire est un ensemble de clés (keys) associées à des valeurs (value)\n",
    "\n",
    "Quel est l'aliment manquant ? Corrigez le programme."
   ]
  },
  {
   "cell_type": "code",
   "execution_count": null,
   "metadata": {},
   "outputs": [],
   "source": [
    "# Erreur de clé \n",
    "\n",
    "liste_aliments = ['orange', 'pomme de terre', 'pomme', 'fromage', 'yaourt', 'framboise', 'myrtille']\n",
    "dic_aliment = {'orange':\"fruit\", 'pomme':\"fruit\", 'pomme de terre':\"tubercule\", 'fraise':\"fruit\", 'framboise':\"fruit\", 'yaourt':\"laitage\" , 'mytille': 'fruit'}\n",
    "\n",
    "\n",
    "# Pour chaque aliment, j'affiche la catégorie correspondante :\n",
    "for aliment in liste_aliments:\n",
    "    print(dic_aliment[aliment])\n",
    "\n"
   ]
  },
  {
   "cell_type": "markdown",
   "metadata": {},
   "source": [
    "## 5 - ModuleNotFoundError et Import error\n",
    "\n",
    "Pour choisir aléatoirement un élément de la liste on souhaite utiliser la fonction `choice`.\n",
    "\n",
    "Je crois me rappeler que la fonction `choice` est définie dans la librairie `rand` : utilisez l'instruction \n",
    "`from _librairie_ import _fonction_` pour corriger le programme ci-dessous.\n"
   ]
  },
  {
   "cell_type": "code",
   "execution_count": null,
   "metadata": {},
   "outputs": [],
   "source": [
    "# Erreur de module et d'import \n",
    "\n",
    "liste_aliments = ['orange', 'pomme de terre', 'pomme', 'fromage', 'yaourt', 'framboise', 'myrtille']\n",
    "print(choice(liste_aliments))\n"
   ]
  },
  {
   "cell_type": "markdown",
   "metadata": {},
   "source": [
    "##  6 - TypeError \n",
    "\n",
    "Une erreur de type signifie qu'on a demandé au programme d'effectuer une opération sur un objet qui n'est pas du type attendu.\n",
    "\n",
    "Quel est la variable dont le type n'est pas le type attendu ici ?\n"
   ]
  },
  {
   "cell_type": "code",
   "execution_count": null,
   "metadata": {},
   "outputs": [],
   "source": [
    "# Erreur de type \n",
    "import re\n",
    "nombre = 345\n",
    "\n",
    "# Sachant un nombre, on souhaite faire afficher les chiffres qui le composent (résultat attendu : ['3', '4', '5'] )\n",
    "chiffres = re.findall('\\d', nombre)\n",
    "print(chiffres)"
   ]
  },
  {
   "cell_type": "markdown",
   "metadata": {},
   "source": [
    "##  7 - NameError\n",
    "\n",
    "corrigez le programme ci-dessous pour qu'il affiche : \n",
    "\n",
    "`C'est\n",
    "bon !`\n"
   ]
  },
  {
   "cell_type": "code",
   "execution_count": null,
   "metadata": {},
   "outputs": [],
   "source": [
    "# Erreur de nom\n",
    "\n",
    "un_nom_de_variable_peut_etre_un_peu_long_1 = \"C'est\"\n",
    "varable2 = \"bon !\"\n",
    "\n",
    "print(un_nom_de_variable_peut_etre_un_peu_trop_long_1)\n",
    "print(variable2)\n"
   ]
  }
 ],
 "metadata": {
  "kernelspec": {
   "display_name": "Python 3",
   "language": "python",
   "name": "python3"
  },
  "language_info": {
   "codemirror_mode": {
    "name": "ipython",
    "version": 3
   },
   "file_extension": ".py",
   "mimetype": "text/x-python",
   "name": "python",
   "nbconvert_exporter": "python",
   "pygments_lexer": "ipython3",
   "version": "3.6.10"
  }
 },
 "nbformat": 4,
 "nbformat_minor": 2
}
