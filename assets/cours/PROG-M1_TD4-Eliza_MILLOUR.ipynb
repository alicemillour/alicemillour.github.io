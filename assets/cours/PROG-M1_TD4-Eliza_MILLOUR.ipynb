{
 "cells": [
  {
   "cell_type": "markdown",
   "metadata": {},
   "source": [
    "# TD chatbot : recoder Eliza \n",
    "Contact : Alice Millour, alice.millour@sorbonne-universite.fr"
   ]
  },
  {
   "cell_type": "markdown",
   "metadata": {},
   "source": [
    "## Étape 1 : Intéragir avec le programme *via* le clavier :\n",
    "\n",
    "1. Quelle est la fonction qui permet de saisir une chaîne au clavier et de la stocker dans une variable ?\n",
    "2. Utilisez-la pour stocker une valeur saise au clavier dans une variable `replique`. Affichez la variable."
   ]
  },
  {
   "cell_type": "code",
   "execution_count": null,
   "metadata": {},
   "outputs": [],
   "source": []
  },
  {
   "cell_type": "markdown",
   "metadata": {},
   "source": [
    "\n",
    "## Étape 2 : Premier contact \n",
    "\n",
    "Définissez la fonction `discussion` qui \n",
    "   1. affiche la phrase \"Bonjour, quoi de neuf aujourd'hui ?\"\n",
    "   2. stocke dans la variable `réplique` une phrase saisie au clavier par l'utilisateur du programme\n",
    "   3. répond \"C'est tout ?\"\n",
    "   \n",
    "Testez le fonctionnement de la fonction."
   ]
  },
  {
   "cell_type": "code",
   "execution_count": null,
   "metadata": {},
   "outputs": [],
   "source": []
  },
  {
   "cell_type": "markdown",
   "metadata": {},
   "source": [
    "Comme vous avez pu le constater, vous ne pouvez pas répondre au programme.\n",
    "\n",
    "## Étape 3 : Vers un peu plus d'interactivité\n",
    "\n",
    "Modifiez la fonction `discussion` pour que\n",
    "   1. la demande de saisie se répète *tant que* l'utilisateur ne saisit pas la phrase \"J'en ai marre.\"\n",
    "   2. le programme affiche \"Ok, à bientôt !\" si l'utilisateur saisit \"J'en ai marre.\"\n"
   ]
  },
  {
   "cell_type": "code",
   "execution_count": null,
   "metadata": {
    "scrolled": true
   },
   "outputs": [],
   "source": []
  },
  {
   "cell_type": "markdown",
   "metadata": {},
   "source": [
    "Vous avez mis en place une première interaction, mais le programme répond toujours la même chose quelle que soit la phrase saisie au clavier. \n",
    "\n",
    "## Étape 4  : Des réponses plus variées... \n",
    "   1. Creez une liste de réponses possibles `liste_reponses` qui contient trois réponses possibles que peut faire le programme à n'importe quelle phrase saisie au clavier.\n",
    "   2. Quelle est la librairie python qui gère l'aléatoire ? Trouvez la fonction qui permet de choisir un élément au hasard dans une liste et importez la.\n",
    "   2. Modifiez la fonction `discussion` pour que le programme affiche une réponse au hasard dans la liste `liste_reponses`.\n",
    "   \n"
   ]
  },
  {
   "cell_type": "code",
   "execution_count": null,
   "metadata": {},
   "outputs": [],
   "source": []
  },
  {
   "cell_type": "markdown",
   "metadata": {},
   "source": [
    "## Étape 5  : Le chatbot perroquet \n",
    "   1. Modifiez la fonction `discussion` pour que, si la réplique saisie par l'utilisateur commence par \"Je pense que...\" le programme réponde \"Tu penses que...\" en répétant la phrase. \n",
    "      \n",
    "      Par exemple, si l'utilisateur saisit : \"Je pense que le ciel est bleu\", le programme doit répondre \"Tu penses que le ciel est bleu\". \n",
    "   \n",
    "Pour cela, vous utiliserez la fonction `re.match` pour stocker dans une variable `pensee` ce qui suit \"Je pense que\" dans la réplique saisie par l'utilisateur.\n",
    "La fonction `group()` appliquée à la variable `pensee` vous permet d'accéder au contenu qui a été stocké.\n",
    "\n",
    "   "
   ]
  },
  {
   "cell_type": "code",
   "execution_count": null,
   "metadata": {},
   "outputs": [],
   "source": []
  },
  {
   "cell_type": "markdown",
   "metadata": {},
   "source": [
    "## Étape 5bis  : Le chatbot perroquet \n",
    "   1. Modifiez la variable pensée pour qu'elle capture les répliques du type : \"Je pense que *le ciel est bleu* mais pas que *la Terre est ronde*\". Dans ces cas, le programme doit faire une réponse du type : \n",
    "   \"Tu penses que *le ciel est bleu*, mais tu ne veux pas que je croie que *la Terre est ronde*\" \n",
    "   \n",
    "Que se passe-t-il si vous saisissez \"Je pense que le ciel est bleu.\" ?\n",
    "   "
   ]
  },
  {
   "cell_type": "code",
   "execution_count": null,
   "metadata": {},
   "outputs": [],
   "source": []
  },
  {
   "cell_type": "markdown",
   "metadata": {},
   "source": [
    "## Étape 6  :  À chaque réplique sa réponse\n",
    "\n",
    "Pour que le programme puisse avoir des réponses différentes pour chaque réplique, nous allons créer une table de correspondances `correspondances`.\n",
    "\n",
    "Chaque élément de `correspondances` est une liste de deux éléments. Le premier élément est un motif de réplique pouvant être saisie par l'utilisateur. Le second élément est une liste de réponses possibles pour le programme.\n",
    "\n",
    "Testez le programme ci-dessous en écrivant une phrase commençant par \"Je m'appelle ...\".\n",
    "\n",
    "Remarquez l'utilisation de l'instruction `break`. À quoi sert cette instruction ?\n"
   ]
  },
  {
   "cell_type": "code",
   "execution_count": null,
   "metadata": {},
   "outputs": [],
   "source": []
  },
  {
   "cell_type": "markdown",
   "metadata": {},
   "source": [
    "## Étape 6  :  À chaque réplique sa réponse (2)\n",
    "\n",
    "Complétez le code ci-dessus pour que, si vous donnez votre prénom et votre nom de famille sous la forme \"Je m'appelle X Y\", le programme réponde : \n",
    "\n",
    "\"Je connais ce nom ! Êtes-vous de la famille de Jean-Paul Y ?\" ou \"X Y... Ce nom ne me dit rien... \" \n",
    "\n",
    "Attention : Votre programme doit prendre en compte les cas où un motif est reconnu (\"Je m'appelle X\") ET où deux motifs sont reconnus (\"Je m'appelle X Y\"). L'ordre des entrées du tableau `correspondances` importe-t-il ?\n",
    "\n",
    "Aide : Utilisez une structure conditionnelle pour séparer les différents cas. "
   ]
  },
  {
   "cell_type": "code",
   "execution_count": null,
   "metadata": {},
   "outputs": [],
   "source": []
  },
  {
   "cell_type": "markdown",
   "metadata": {},
   "source": [
    "## Étape 7  :  répéter intelligemment\n",
    "Reprenez le programme de l'étape 5bis et complétez-le avec un tableau de correspondances. Faites en sorte que les répliques :\n",
    "\n",
    "- Je pense que X \n",
    "- Je pense que X mais pas que Y\n",
    "\n",
    "soient prises en compte.\n",
    "\n",
    "Testez votre fonction avec la phrase \"Je pense que je suis malade\" \n",
    "\n",
    "Quel est le problème ? Que faudrait-il modifier pour éviter ce problème ? Quelle(s) solution(s) voyez-vous ? "
   ]
  },
  {
   "cell_type": "code",
   "execution_count": null,
   "metadata": {},
   "outputs": [],
   "source": []
  },
  {
   "cell_type": "markdown",
   "metadata": {},
   "source": []
  },
  {
   "cell_type": "code",
   "execution_count": null,
   "metadata": {},
   "outputs": [],
   "source": []
  }
 ],
 "metadata": {
  "kernelspec": {
   "display_name": "Python 3",
   "language": "python",
   "name": "python3"
  },
  "language_info": {
   "codemirror_mode": {
    "name": "ipython",
    "version": 3
   },
   "file_extension": ".py",
   "mimetype": "text/x-python",
   "name": "python",
   "nbconvert_exporter": "python",
   "pygments_lexer": "ipython3",
   "version": "3.6.10"
  }
 },
 "nbformat": 4,
 "nbformat_minor": 2
}
